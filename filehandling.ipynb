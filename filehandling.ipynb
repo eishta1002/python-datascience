{
 "cells": [
  {
   "cell_type": "code",
   "execution_count": 5,
   "metadata": {},
   "outputs": [],
   "source": [
    "import os "
   ]
  },
  {
   "cell_type": "code",
   "execution_count": 4,
   "metadata": {},
   "outputs": [
    {
     "name": "stdout",
     "output_type": "stream",
     "text": [
      "c:\\Users\\Eishta Singh\\Documents\\python datascience\n"
     ]
    }
   ],
   "source": [
    "BASE_DIR=os.getcwd()\n",
    "print(BASE_DIR)\n"
   ]
  },
  {
   "cell_type": "code",
   "execution_count": 3,
   "metadata": {},
   "outputs": [
    {
     "name": "stdout",
     "output_type": "stream",
     "text": [
      "['.git', 'basics.ipynb', 'conditions.ipynb', 'filehandling.ipynb', 'functions.ipynb', 'io.ipynb', 'kahani.py', 'list.ipynb', 'loops.ipynb', 'pattern1.py', 'practice.ipynb', 'set_n_dict.ipynb', 'strings.ipynb']\n"
     ]
    }
   ],
   "source": [
    "content=os.listdir()\n",
    "print(content)"
   ]
  },
  {
   "cell_type": "code",
   "execution_count": 4,
   "metadata": {},
   "outputs": [
    {
     "name": "stdout",
     "output_type": "stream",
     "text": [
      "Total content : 25\n"
     ]
    }
   ],
   "source": [
    "addr = r'C:\\Program Files'\n",
    "content = os.listdir(addr)\n",
    "print(f'Total content : {len(content)}')\n"
   ]
  },
  {
   "cell_type": "code",
   "execution_count": 5,
   "metadata": {},
   "outputs": [
    {
     "data": {
      "text/plain": [
       "['C:\\\\', 'D:\\\\', 'E:\\\\', 'F:\\\\']"
      ]
     },
     "execution_count": 5,
     "metadata": {},
     "output_type": "execute_result"
    }
   ],
   "source": [
    "os.listdrives()"
   ]
  },
  {
   "cell_type": "code",
   "execution_count": 6,
   "metadata": {},
   "outputs": [
    {
     "name": "stdout",
     "output_type": "stream",
     "text": [
      "['$RECYCLE.BIN', 'System Volume Information', 'UPSC']\n"
     ]
    }
   ],
   "source": [
    "os.chdir(\"F:\")\n",
    "print(os.listdir())"
   ]
  },
  {
   "cell_type": "code",
   "execution_count": 7,
   "metadata": {},
   "outputs": [
    {
     "data": {
      "text/plain": [
       "'F:\\\\'"
      ]
     },
     "execution_count": 7,
     "metadata": {},
     "output_type": "execute_result"
    }
   ],
   "source": [
    "os.getcwd()"
   ]
  },
  {
   "cell_type": "code",
   "execution_count": 8,
   "metadata": {},
   "outputs": [],
   "source": [
    "os.makedirs('mynotes', exist_ok=True)"
   ]
  },
  {
   "cell_type": "markdown",
   "metadata": {},
   "source": [
    "# python file handlingh\n",
    "'open()'-opens files resources and returns a file object\n",
    "modes=>\n",
    "-'r'mode:read mode(default)\n",
    "-'w'mode:write mode\n",
    "-'a':append mode"
   ]
  },
  {
   "cell_type": "code",
   "execution_count": 9,
   "metadata": {},
   "outputs": [],
   "source": [
    "with open('mynotes/note1.txt','w') as f:\n",
    "    f.write(\"This is my first note:\\n\")\n",
    "    f.write(\"Python file handling is super easy\\n\")\n",
    "    f.write(\"You can create and delete files easily\\n\")"
   ]
  },
  {
   "cell_type": "code",
   "execution_count": 11,
   "metadata": {},
   "outputs": [],
   "source": [
    "with open('mynotes/note1.txt','a') as f:\n",
    "    f.write(\"os module is the best\\n\")\n",
    "    f.write(\"Python file handling is super easy\\n\")\n",
    "    f.write(\"🥱🥱🥱🥱🥱\\n\")"
   ]
  },
  {
   "cell_type": "code",
   "execution_count": 12,
   "metadata": {},
   "outputs": [
    {
     "name": "stdout",
     "output_type": "stream",
     "text": [
      "os module is the best\n",
      "Python file handling is super easy\n",
      "🥱🥱🥱🥱🥱\n",
      "os module is the best\n",
      "Python file handling is super easy\n",
      "🥱🥱🥱🥱🥱\n",
      "\n"
     ]
    }
   ],
   "source": [
    "with open(\"mynotes/note1.txt\") as file:\n",
    "    data=file.read()\n",
    "print(data)"
   ]
  },
  {
   "cell_type": "code",
   "execution_count": 6,
   "metadata": {},
   "outputs": [
    {
     "name": "stdout",
     "output_type": "stream",
     "text": [
      "['sscchslapplicationform.pdf']\n"
     ]
    }
   ],
   "source": [
    "items= os.listdir('C:/Users/Eishta Singh/downloads')\n",
    "pdfs=list(filter(lambda file:file.endswith('.pdf'),items))\n",
    "print(pdfs)"
   ]
  },
  {
   "cell_type": "code",
   "execution_count": 8,
   "metadata": {},
   "outputs": [
    {
     "name": "stdout",
     "output_type": "stream",
     "text": [
      "sscchslapplicationform.pdf                        )(2362.83KB\n"
     ]
    }
   ],
   "source": [
    "for file in pdfs:\n",
    "    path= f'C:/Users/Eishta Singh/Downloads/{file}'\n",
    "    size= os.path.getsize(path)\n",
    "    print(f'{file:50})({size/1024:.2f}KB')\n"
   ]
  },
  {
   "cell_type": "code",
   "execution_count": null,
   "metadata": {},
   "outputs": [],
   "source": []
  }
 ],
 "metadata": {
  "kernelspec": {
   "display_name": "base",
   "language": "python",
   "name": "python3"
  },
  "language_info": {
   "codemirror_mode": {
    "name": "ipython",
    "version": 3
   },
   "file_extension": ".py",
   "mimetype": "text/x-python",
   "name": "python",
   "nbconvert_exporter": "python",
   "pygments_lexer": "ipython3",
   "version": "3.12.3"
  }
 },
 "nbformat": 4,
 "nbformat_minor": 2
}
