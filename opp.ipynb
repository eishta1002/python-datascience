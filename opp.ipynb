{
 "cells": [
  {
   "cell_type": "code",
   "execution_count": 8,
   "metadata": {},
   "outputs": [
    {
     "name": "stdout",
     "output_type": "stream",
     "text": [
      "12 <class 'int'>\n"
     ]
    }
   ],
   "source": [
    "x=12\n",
    "print(x,type(x))"
   ]
  },
  {
   "cell_type": "markdown",
   "metadata": {},
   "source": [
    "OOP\n",
    "-class✔️\n",
    "-object✔️\n",
    "-inheritance✔️\n",
    "-polymorphism❌\n",
    "-encapsulation❌\n",
    "-abstraction❌\n"
   ]
  },
  {
   "cell_type": "code",
   "execution_count": 9,
   "metadata": {},
   "outputs": [
    {
     "name": "stdout",
     "output_type": "stream",
     "text": [
      "<class 'str'>\n"
     ]
    }
   ],
   "source": [
    "name =\"John\"\n",
    "print(type(name))"
   ]
  },
  {
   "cell_type": "markdown",
   "metadata": {},
   "source": [
    "class-blueprint for creating objects\n",
    "-properties/attributes/fields\n",
    "-methods/functions\n",
    "-constructor(special method)\n",
    "syntax:-\n",
    "class ClassName:\n",
    "    properties 1\n",
    "    properties 2\n",
    "    properties n\n",
    "    def method1():\n",
    "        statements\n",
    "    def method2():\n",
    "        statements\n",
    "    def methodn():\n",
    "        statements"
   ]
  },
  {
   "cell_type": "code",
   "execution_count": 10,
   "metadata": {},
   "outputs": [],
   "source": [
    "class Book:\n",
    "    title = \"\"\n",
    "    author = \"\""
   ]
  },
  {
   "cell_type": "code",
   "execution_count": 11,
   "metadata": {},
   "outputs": [
    {
     "data": {
      "text/plain": [
       "['__class__',\n",
       " '__delattr__',\n",
       " '__dict__',\n",
       " '__dir__',\n",
       " '__doc__',\n",
       " '__eq__',\n",
       " '__format__',\n",
       " '__ge__',\n",
       " '__getattribute__',\n",
       " '__getstate__',\n",
       " '__gt__',\n",
       " '__hash__',\n",
       " '__init__',\n",
       " '__init_subclass__',\n",
       " '__le__',\n",
       " '__lt__',\n",
       " '__module__',\n",
       " '__ne__',\n",
       " '__new__',\n",
       " '__reduce__',\n",
       " '__reduce_ex__',\n",
       " '__repr__',\n",
       " '__setattr__',\n",
       " '__sizeof__',\n",
       " '__str__',\n",
       " '__subclasshook__',\n",
       " '__weakref__',\n",
       " 'author',\n",
       " 'title']"
      ]
     },
     "execution_count": 11,
     "metadata": {},
     "output_type": "execute_result"
    }
   ],
   "source": [
    "dir(Book)"
   ]
  },
  {
   "cell_type": "code",
   "execution_count": 12,
   "metadata": {},
   "outputs": [
    {
     "name": "stdout",
     "output_type": "stream",
     "text": [
      "<__main__.Book object at 0x000002866352E6F0>\n",
      "Worlds of Radiance\n",
      " Brandon Sanderson\n",
      "<__main__.Book object at 0x000002866356EF00>\n",
      "The Way of Kings\n",
      "Brandon Sanderson\n"
     ]
    }
   ],
   "source": [
    "#obj =Class()\n",
    "b1= Book()\n",
    "print(b1)\n",
    "b1.title= \"Worlds of Radiance\"\n",
    "b1.author=\" Brandon Sanderson\"\n",
    "print(b1.title)\n",
    "print(b1.author)\n",
    "\n",
    "b2=Book()\n",
    "b2.title= \"The Way of Kings\"\n",
    "b2.author= \"Brandon Sanderson\"\n",
    "print(b2)\n",
    "print(b2.title)\n",
    "print(b2.author)"
   ]
  },
  {
   "cell_type": "code",
   "execution_count": 13,
   "metadata": {},
   "outputs": [
    {
     "data": {
      "text/plain": [
       "['__class__',\n",
       " '__delattr__',\n",
       " '__dict__',\n",
       " '__dir__',\n",
       " '__doc__',\n",
       " '__eq__',\n",
       " '__format__',\n",
       " '__ge__',\n",
       " '__getattribute__',\n",
       " '__getstate__',\n",
       " '__gt__',\n",
       " '__hash__',\n",
       " '__init__',\n",
       " '__init_subclass__',\n",
       " '__le__',\n",
       " '__lt__',\n",
       " '__module__',\n",
       " '__ne__',\n",
       " '__new__',\n",
       " '__reduce__',\n",
       " '__reduce_ex__',\n",
       " '__repr__',\n",
       " '__setattr__',\n",
       " '__sizeof__',\n",
       " '__str__',\n",
       " '__subclasshook__',\n",
       " '__weakref__',\n",
       " 'date',\n",
       " 'dp',\n",
       " 'has_status',\n",
       " 'last_msg',\n",
       " 'muted',\n",
       " 'notif',\n",
       " 'pinned',\n",
       " 'sender']"
      ]
     },
     "execution_count": 13,
     "metadata": {},
     "output_type": "execute_result"
    }
   ],
   "source": [
    "class ChatMessage:\n",
    "    def __init__(self,s,msg,dp,date,n,p,m,hs):\n",
    "        self.sender=s\n",
    "        self.last_msg=msg\n",
    "        self.dp=dp\n",
    "        self.date=date\n",
    "        self.notif =n\n",
    "        self.pinned =p\n",
    "        self.muted= m\n",
    "        self.has_status= hs\n",
    "\n",
    "cm1= ChatMessage(\"Amazon Pay\",\"You have a Coupon\",\n",
    "                 \"amazon.jpg\",date=\"12-12-24\",\n",
    "                 n=0,p=False,m=False,hs=False)\n",
    "dir(cm1)\n"
   ]
  },
  {
   "cell_type": "code",
   "execution_count": 14,
   "metadata": {},
   "outputs": [],
   "source": [
    "class Student:\n",
    "    def __init__(self,name,std,roll_no):\n",
    "        self.name =name\n",
    "        self.std=std\n",
    "        self.roll_no=roll_no\n",
    "    def display(self):\n",
    "        print(\"Name\",self.name)\n",
    "        print(\"Standard\",self.std)\n",
    "        print(\"Roll Number\",self.roll_no)\n",
    "        print(\"_\"*20)"
   ]
  },
  {
   "cell_type": "code",
   "execution_count": 15,
   "metadata": {},
   "outputs": [
    {
     "name": "stdout",
     "output_type": "stream",
     "text": [
      "Name John\n",
      "Standard 12\n",
      "Roll Number 101\n",
      "____________________\n",
      "Name Jane\n",
      "Standard 12\n",
      "Roll Number 102\n",
      "____________________\n",
      "Name Jack\n",
      "Standard 10\n",
      "Roll Number 103\n",
      "____________________\n"
     ]
    }
   ],
   "source": [
    "s1 = Student(\"John\",12,101)\n",
    "s2= Student(\"Jane\",12,102)\n",
    "s3= Student(\"Jack\",10,103)\n",
    "s1.display()\n",
    "s2.display()\n",
    "s3.display()\n"
   ]
  },
  {
   "cell_type": "code",
   "execution_count": 16,
   "metadata": {},
   "outputs": [],
   "source": [
    "class Pet:\n",
    "    def __init__(self,type,breed,price):\n",
    "        self.type=type\n",
    "        self.breed=breed\n",
    "        self.price=price\n",
    "        \n",
    "    def display(self):\n",
    "        print(\"type\",self.type)\n",
    "        print(\"breed\",self.breed)\n",
    "        print(\"price\",self.price)\n",
    "        print(\"_\"*20)\n",
    "        \n",
    "        \n",
    "        "
   ]
  },
  {
   "cell_type": "code",
   "execution_count": 17,
   "metadata": {},
   "outputs": [
    {
     "name": "stdout",
     "output_type": "stream",
     "text": [
      "type dog\n",
      "breed beagle\n",
      "price 6000\n",
      "____________________\n",
      "type dog\n",
      "breed pug\n",
      "price 5000\n",
      "____________________\n",
      "type bird\n",
      "breed love bird\n",
      "price 1000\n",
      "____________________\n"
     ]
    }
   ],
   "source": [
    "s1 = Pet(\"dog\",\"beagle\",6000)\n",
    "s2= Pet(\"dog\",\"pug\",5000)\n",
    "s3= Pet(\"bird\",\"parrot\",2000)\n",
    "s3= Pet(\"bird\",\"love bird\",1000)\n",
    "s1.display()\n",
    "s2.display()\n",
    "s3.display()\n"
   ]
  },
  {
   "cell_type": "code",
   "execution_count": 18,
   "metadata": {},
   "outputs": [],
   "source": [
    "from dataclasses import dataclass\n",
    "\n",
    "@dataclass\n",
    "class Pet:\n",
    "    pet_type:str\n",
    "    gender:str\n",
    "    color:str\n",
    "    age:int"
   ]
  },
  {
   "cell_type": "code",
   "execution_count": 19,
   "metadata": {},
   "outputs": [
    {
     "name": "stdout",
     "output_type": "stream",
     "text": [
      "Pet(pet_type='Cat', gender='Male', color='Black', age=2)\n",
      "Pet(pet_type='Parrot', gender='Female', color='Green', age=1)\n",
      "Pet(pet_type='Dog', gender='Male', color='Brown', age=10)\n"
     ]
    }
   ],
   "source": [
    "p1= Pet(pet_type='Cat',gender=\"Male\", color=\"Black\",age=2)\n",
    "p2= Pet(pet_type='Parrot',gender=\"Female\", color=\"Green\",age=1)\n",
    "p3= Pet(pet_type='Dog',gender=\"Male\", color=\"Brown\",age=10)\n",
    "print(p1)\n",
    "print(p2)\n",
    "print(p3)"
   ]
  },
  {
   "cell_type": "code",
   "execution_count": 20,
   "metadata": {},
   "outputs": [
    {
     "name": "stdout",
     "output_type": "stream",
     "text": [
      "200\n",
      "50\n",
      "r1 is bigger\n"
     ]
    }
   ],
   "source": [
    "class Rectanlge:\n",
    "    def __init__(self,l,w):\n",
    "        self.length =l\n",
    "        self.width=w\n",
    "    def area(self):\n",
    "        return self.length *self.width\n",
    "    def perimeter(self):\n",
    "        return 2*(self.length+self.width)\n",
    "    \n",
    "r1 = Rectanlge(10,20)\n",
    "r2 = Rectanlge(5,10)\n",
    "print(r1.area())\n",
    "print(r2.area())\n",
    "if r1.area()> r2.area():\n",
    "    print(\"r1 is bigger\")\n",
    "else:\n",
    "    print(\"r2is bigger\")"
   ]
  },
  {
   "cell_type": "markdown",
   "metadata": {},
   "source": [
    "inheritance:-\n",
    "-multilevel inheritance(A->B->C)\n",
    "syntax:-\n",
    "class SuperClass:\n",
    "    pass\n",
    "\n",
    "class SubClass(SubClass):\n",
    "    pass\n",
    "class SubClass(SubClass):\n",
    "    pass\n",
    "\n",
    "-multiple inheritance(A,B->C)\n",
    "syntax:-\n",
    "class A:\n",
    "    pass\n",
    "class B:\n",
    "    pass\n",
    "class C(A,B)\n",
    "    pass\n"
   ]
  },
  {
   "cell_type": "code",
   "execution_count": 21,
   "metadata": {},
   "outputs": [],
   "source": [
    "class Vehicle:\n",
    "    def __init__(self,brand,model):\n",
    "        self.brand= brand\n",
    "        self.model= model\n",
    "    def display(self):\n",
    "        print(f\"{self.brand}-{self.model}\")\n",
    "        "
   ]
  },
  {
   "cell_type": "code",
   "execution_count": 22,
   "metadata": {},
   "outputs": [],
   "source": [
    "class Car(Vehicle):\n",
    "    def __init__(self, brand, model, cartype,seats):\n",
    "        super().__init__(brand, model)\n",
    "        self.cartype=cartype\n",
    "        self.seats=seats\n"
   ]
  },
  {
   "cell_type": "code",
   "execution_count": 23,
   "metadata": {},
   "outputs": [
    {
     "name": "stdout",
     "output_type": "stream",
     "text": [
      "Toyota-Corolla\n",
      "Honda-Civic\n"
     ]
    }
   ],
   "source": [
    "c1= Car(\"Toyota\",\"Corolla\",\"Sedan\", 5)\n",
    "c2= Car(\"Honda\",\"Civic\",\"Sedan\",5)\n",
    "c1.display()\n",
    "c2.display()"
   ]
  },
  {
   "cell_type": "code",
   "execution_count": 29,
   "metadata": {},
   "outputs": [],
   "source": [
    "class SuperList(list):\n",
    "    def __init__(self, *args):\n",
    "        super().__init__(*args)\n",
    "    def sum(self):\n",
    "        for value in self:\n",
    "            if isinstance(value,int):\n",
    "                return sum(self)\n",
    "        return 0\n",
    "    "
   ]
  },
  {
   "cell_type": "code",
   "execution_count": 25,
   "metadata": {},
   "outputs": [
    {
     "name": "stdout",
     "output_type": "stream",
     "text": [
      "[1, 2, 3, 4, 5]\n"
     ]
    },
    {
     "data": {
      "text/plain": [
       "15"
      ]
     },
     "execution_count": 25,
     "metadata": {},
     "output_type": "execute_result"
    }
   ],
   "source": [
    "x= SuperList([1,2,3,4,5])\n",
    "print(x)\n",
    "x.sum()"
   ]
  },
  {
   "cell_type": "code",
   "execution_count": 30,
   "metadata": {},
   "outputs": [],
   "source": [
    "class SuperList(list):\n",
    "    def __init__(self, *args):\n",
    "        super().__init__(*args)\n",
    "    def sum(self):\n",
    "        clean_list = [x for x in self if isinstance(x,int)]\n",
    "        return sum(clean_list)\n",
    "    "
   ]
  },
  {
   "cell_type": "code",
   "execution_count": 31,
   "metadata": {},
   "outputs": [
    {
     "name": "stdout",
     "output_type": "stream",
     "text": [
      "[1, 'bat', 2, 3, 'cat', 4, 5]\n",
      "15\n"
     ]
    }
   ],
   "source": [
    "x= SuperList([1, 'bat',2,3,'cat',4,5])\n",
    "print(x)\n",
    "print(x.sum())"
   ]
  },
  {
   "cell_type": "code",
   "execution_count": 32,
   "metadata": {},
   "outputs": [],
   "source": [
    "import random\n",
    "class Wizard:\n",
    "    def __init__(self,spells):\n",
    "        self.spells =spells\n",
    "    def cast_spell(self):\n",
    "        print(f\"casting spell {random.choice(self.spells)}\")\n",
    "\n",
    "class Warrior:\n",
    "    def __init__(self, weapons):\n",
    "        self.weapons =weapons\n",
    "    def attack(self):\n",
    "        print(f\"attacking with {random.choice(self.weapons)}\")\n",
    "\n",
    "class BattleMage(Wizard,Warrior):\n",
    "    def __init__(self,spells,weapons):\n",
    "        Wizard.__init__(self,spells)\n",
    "        Warrior.__init__(self,weapons)\n",
    "\n",
    "    def fight(self):\n",
    "        self.cast_spell()\n",
    "        self.attack()\n",
    "\n"
   ]
  },
  {
   "cell_type": "code",
   "execution_count": 33,
   "metadata": {},
   "outputs": [
    {
     "name": "stdout",
     "output_type": "stream",
     "text": [
      "Warrior\n",
      "attacking with Mace\n",
      "Wizard\n",
      "BattleMage\n",
      "casting spell Lightning\n",
      "attacking with Axe\n"
     ]
    }
   ],
   "source": [
    "w= Warrior([\"Sword\",\"Axe\",\"Mace\"])\n",
    "wz= Wizard([\"Fireball\",\"Iceball\",\"Lightning\"])\n",
    "bm= BattleMage([\"Fireball\",\"Iceball\",\"Lightning\"],\n",
    "               [\"Sword\",\"Axe\",\"Mace\"])\n",
    "print(\"Warrior\")\n",
    "w.attack()\n",
    "print(\"Wizard\")\n",
    "wz.cast_spell\n",
    "print(\"BattleMage\")\n",
    "bm.fight()"
   ]
  },
  {
   "cell_type": "code",
   "execution_count": null,
   "metadata": {},
   "outputs": [],
   "source": []
  }
 ],
 "metadata": {
  "kernelspec": {
   "display_name": "base",
   "language": "python",
   "name": "python3"
  },
  "language_info": {
   "codemirror_mode": {
    "name": "ipython",
    "version": 3
   },
   "file_extension": ".py",
   "mimetype": "text/x-python",
   "name": "python",
   "nbconvert_exporter": "python",
   "pygments_lexer": "ipython3",
   "version": "3.12.3"
  }
 },
 "nbformat": 4,
 "nbformat_minor": 2
}
