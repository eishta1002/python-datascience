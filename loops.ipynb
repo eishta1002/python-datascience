{
 "cells": [
  {
   "cell_type": "markdown",
   "metadata": {},
   "source": [
    "loops\n",
    "1. for loop ->step based loop\n",
    "2. while loop ->condition based loop\n",
    "\n",
    "iterable is any object that has items to iterable over\n",
    "-string\n",
    "-list\n",
    "-tuple\n",
    "-set\n",
    "-dictionary\n",
    "-generator\n",
    "-range()\n",
    "\n",
    "-loop control\n",
    "1. break\n",
    "2. continue\n",
    "\n",
    "-enumerate()\n",
    "-zip()\n",
    "-for else\n",
    "-while else"
   ]
  },
  {
   "cell_type": "code",
   "execution_count": 1,
   "metadata": {},
   "outputs": [
    {
     "data": {
      "text/plain": [
       "[0, 1, 2, 3, 4, 5, 6, 7, 8, 9]"
      ]
     },
     "execution_count": 1,
     "metadata": {},
     "output_type": "execute_result"
    }
   ],
   "source": [
    "list(range(10))"
   ]
  },
  {
   "cell_type": "code",
   "execution_count": 2,
   "metadata": {},
   "outputs": [
    {
     "name": "stdout",
     "output_type": "stream",
     "text": [
      "10\n",
      "11\n",
      "12\n",
      "13\n",
      "14\n",
      "15\n",
      "16\n",
      "17\n",
      "18\n",
      "19\n"
     ]
    }
   ],
   "source": [
    "for i in range(10 , 20):\n",
    "    print(i)"
   ]
  },
  {
   "cell_type": "code",
   "execution_count": 5,
   "metadata": {},
   "outputs": [
    {
     "name": "stdout",
     "output_type": "stream",
     "text": [
      "1,3,5,7,9,"
     ]
    }
   ],
   "source": [
    "for i in range(1, 11,2):\n",
    "    print(i, end= ',')"
   ]
  },
  {
   "cell_type": "code",
   "execution_count": 6,
   "metadata": {},
   "outputs": [
    {
     "name": "stdout",
     "output_type": "stream",
     "text": [
      "5,4,3,2,1,0,-1,-2,-3,-4,-5,"
     ]
    }
   ],
   "source": [
    "#reverse loop\n",
    "for i in range(5 , -6, -1):\n",
    "    print(i, end=',')"
   ]
  },
  {
   "cell_type": "code",
   "execution_count": 7,
   "metadata": {},
   "outputs": [
    {
     "name": "stdout",
     "output_type": "stream",
     "text": [
      "=> d\n",
      "=> i\n",
      "=> g\n",
      "=> i\n",
      "=> p\n",
      "=> o\n",
      "=> d\n",
      "=> i\n",
      "=> u\n",
      "=> m\n"
     ]
    }
   ],
   "source": [
    "word  = 'digipodium'\n",
    "for char in word:\n",
    "    print(\"=>\", char)"
   ]
  },
  {
   "cell_type": "code",
   "execution_count": 8,
   "metadata": {},
   "outputs": [
    {
     "name": "stdout",
     "output_type": "stream",
     "text": [
      "p\n",
      "y\n",
      "t\n",
      "h\n",
      "o\n",
      "n\n"
     ]
    }
   ],
   "source": [
    "data ='p_y@!t@h#on'\n",
    "for i in data:\n",
    "    if i.isalpha():\n",
    "        print(i)"
   ]
  },
  {
   "cell_type": "code",
   "execution_count": 9,
   "metadata": {},
   "outputs": [
    {
     "name": "stdout",
     "output_type": "stream",
     "text": [
      "25\n",
      "20\n",
      "15\n",
      "10\n",
      "5\n",
      "0\n",
      "-5\n",
      "-10\n",
      "-15\n",
      "-20\n",
      "-25\n"
     ]
    }
   ],
   "source": [
    "nums= [5,4,3,2,1,0,-1,-2,-3,-4,-5]\n",
    "for num in nums:\n",
    "    print(num *5)"
   ]
  },
  {
   "cell_type": "code",
   "execution_count": 10,
   "metadata": {},
   "outputs": [
    {
     "name": "stdout",
     "output_type": "stream",
     "text": [
      "4\n",
      "2\n",
      "0\n",
      "-2\n",
      "-4\n"
     ]
    }
   ],
   "source": [
    "nums =[5,4,3,2,1,0,-1,-2,-3,-4,-5]\n",
    "for n in nums:\n",
    "    if n%2 ==0:\n",
    "        print(n)\n",
    "    \n",
    "    "
   ]
  },
  {
   "cell_type": "code",
   "execution_count": 12,
   "metadata": {},
   "outputs": [
    {
     "name": "stdout",
     "output_type": "stream",
     "text": [
      "apple 5\n",
      "banana 6\n",
      "cherry 6\n",
      "dragonfruit 11\n",
      "eggplant 8\n",
      "fig 3\n",
      "guava 5\n",
      "honeydew 8\n",
      "imli 4\n",
      "kiwi 4\n"
     ]
    }
   ],
   "source": [
    "fruits = ['apple', 'banana', 'cherry', 'dragonfruit',\n",
    "          'eggplant','fig','guava','honeydew', 'imli','kiwi']\n",
    "for fruit in fruits:\n",
    "    print(fruit, len(fruit))"
   ]
  },
  {
   "cell_type": "code",
   "execution_count": 13,
   "metadata": {},
   "outputs": [
    {
     "name": "stdout",
     "output_type": "stream",
     "text": [
      "apple\n",
      "banana\n",
      "cherry\n",
      "dragonfruit\n",
      "eggplant\n",
      "loop completed\n"
     ]
    }
   ],
   "source": [
    "for i in fruits:\n",
    "    if i == 'fig':\n",
    "        break\n",
    "    print(i)\n",
    "print('loop completed')"
   ]
  },
  {
   "cell_type": "code",
   "execution_count": 14,
   "metadata": {},
   "outputs": [
    {
     "name": "stdout",
     "output_type": "stream",
     "text": [
      "10\n",
      "40\n",
      "105\n",
      "134\n"
     ]
    }
   ],
   "source": [
    "nums =[10,30,65,29]\n",
    "total =0\n",
    "for i in nums :\n",
    "    total+=i\n",
    "    print(total)"
   ]
  },
  {
   "cell_type": "code",
   "execution_count": 23,
   "metadata": {},
   "outputs": [
    {
     "name": "stdout",
     "output_type": "stream",
     "text": [
      "286\n"
     ]
    }
   ],
   "source": [
    "nums =[120, -20, 10 ,40 ,101, -5, 15]\n",
    "total =0\n",
    "for i in nums :\n",
    "    if i<0 :\n",
    "        continue\n",
    "    total += i\n",
    "print(total)"
   ]
  },
  {
   "cell_type": "code",
   "execution_count": 25,
   "metadata": {},
   "outputs": [
    {
     "name": "stdout",
     "output_type": "stream",
     "text": [
      "286\n"
     ]
    }
   ],
   "source": [
    "total =0\n",
    "for i in nums :\n",
    "    if i>0 :\n",
    "      total += i\n",
    "print(total)"
   ]
  },
  {
   "cell_type": "code",
   "execution_count": null,
   "metadata": {},
   "outputs": [],
   "source": []
  }
 ],
 "metadata": {
  "kernelspec": {
   "display_name": "base",
   "language": "python",
   "name": "python3"
  },
  "language_info": {
   "codemirror_mode": {
    "name": "ipython",
    "version": 3
   },
   "file_extension": ".py",
   "mimetype": "text/x-python",
   "name": "python",
   "nbconvert_exporter": "python",
   "pygments_lexer": "ipython3",
   "version": "3.12.3"
  }
 },
 "nbformat": 4,
 "nbformat_minor": 2
}
