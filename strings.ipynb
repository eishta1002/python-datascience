{
 "cells": [
  {
   "cell_type": "markdown",
   "metadata": {},
   "source": [
    "STRINGS\n",
    "-creation\n",
    "-indexing and slicing\n",
    "-methods"
   ]
  },
  {
   "cell_type": "code",
   "execution_count": 21,
   "metadata": {},
   "outputs": [
    {
     "name": "stdout",
     "output_type": "stream",
     "text": [
      "<class 'str'>\n"
     ]
    }
   ],
   "source": [
    "a ='apple'\n",
    "print(type(a))"
   ]
  },
  {
   "cell_type": "code",
   "execution_count": 22,
   "metadata": {},
   "outputs": [
    {
     "name": "stdout",
     "output_type": "stream",
     "text": [
      "<class 'str'>\n"
     ]
    }
   ],
   "source": [
    "b = \"big apple\"\n",
    "print(type(b))"
   ]
  },
  {
   "cell_type": "code",
   "execution_count": 23,
   "metadata": {},
   "outputs": [
    {
     "name": "stdout",
     "output_type": "stream",
     "text": [
      "<class 'str'>\n"
     ]
    }
   ],
   "source": [
    "c = '''this is a string. \n",
    "and its is triple qoutes'''\n",
    "print(type(c))"
   ]
  },
  {
   "cell_type": "code",
   "execution_count": 24,
   "metadata": {},
   "outputs": [
    {
     "name": "stdout",
     "output_type": "stream",
     "text": [
      "<class 'str'>\n"
     ]
    }
   ],
   "source": [
    "d= str(129300)\n",
    "print(type(c))"
   ]
  },
  {
   "cell_type": "markdown",
   "metadata": {},
   "source": [
    "types of string\n",
    "-byte b'hello'\n",
    "-raw r'hello'\n",
    "-format f'hello'"
   ]
  },
  {
   "cell_type": "code",
   "execution_count": null,
   "metadata": {},
   "outputs": [],
   "source": [
    "print(b' this is a byte string')\n",
    "print(r' this ia \\n\\n\\n a byte string')\n",
    "print(f'{a} isa value')\n"
   ]
  },
  {
   "cell_type": "markdown",
   "metadata": {},
   "source": [
    "#indexing\n",
    "-5 -4 -3 -2 -1\n",
    " a  p  p  l  e\n",
    " 0  1  2  3  4"
   ]
  },
  {
   "cell_type": "code",
   "execution_count": 1,
   "metadata": {},
   "outputs": [
    {
     "name": "stdout",
     "output_type": "stream",
     "text": [
      "G\n",
      "r\n",
      "e\n",
      "e\n",
      "k\n"
     ]
    }
   ],
   "source": [
    "word = 'Greek'\n",
    "print(word[0])\n",
    "print(word[1])\n",
    "print(word[2])\n",
    "print(word[-2])\n",
    "print(word[-1])"
   ]
  },
  {
   "cell_type": "code",
   "execution_count": 2,
   "metadata": {},
   "outputs": [
    {
     "name": "stdout",
     "output_type": "stream",
     "text": [
      "d\n",
      "n\n"
     ]
    }
   ],
   "source": [
    "msg =\"Journey before destination\"\n",
    "print(msg[15])\n",
    "print(msg[-6])"
   ]
  },
  {
   "cell_type": "code",
   "execution_count": 4,
   "metadata": {},
   "outputs": [
    {
     "name": "stdout",
     "output_type": "stream",
     "text": [
      "before\n"
     ]
    }
   ],
   "source": [
    "print(msg[8:14])"
   ]
  },
  {
   "cell_type": "code",
   "execution_count": 7,
   "metadata": {},
   "outputs": [
    {
     "name": "stdout",
     "output_type": "stream",
     "text": [
      "destination\n"
     ]
    }
   ],
   "source": [
    "print(msg[15:26])"
   ]
  },
  {
   "cell_type": "code",
   "execution_count": 12,
   "metadata": {},
   "outputs": [
    {
     "name": "stdout",
     "output_type": "stream",
     "text": [
      "Vijay\n",
      "Deenanath\n",
      "Chauhan\n"
     ]
    }
   ],
   "source": [
    "name = 'Vijay Deenanath Chauhan'\n",
    "fname = name[:5]\n",
    "mname = name[6:15]\n",
    "lname = name[16:23]\n",
    "print (fname)\n",
    "print(mname)\n",
    "print(lname)"
   ]
  },
  {
   "cell_type": "code",
   "execution_count": 14,
   "metadata": {},
   "outputs": [
    {
     "name": "stdout",
     "output_type": "stream",
     "text": [
      "convert it into float\n",
      "1599.25\n"
     ]
    }
   ],
   "source": [
    "x= \"$1599.25 only\"\n",
    "print(\"convert it into float\")\n",
    "x = float(x[1:-5])\n",
    "print(x)"
   ]
  },
  {
   "cell_type": "markdown",
   "metadata": {},
   "source": [
    "# string methods\n",
    "-formatting\n",
    "  -upper()\n",
    "  -lower()\n",
    "  -capitalize()\n",
    "  -title()\n",
    "  -swapcase()\n",
    "  -casefold()\n",
    "  -center()\n",
    "  -ljust()\n",
    "  -rjust()\n",
    "\n"
   ]
  },
  {
   "cell_type": "code",
   "execution_count": 19,
   "metadata": {},
   "outputs": [
    {
     "name": "stdout",
     "output_type": "stream",
     "text": [
      "LIFE IS BEAUTIFUL\n",
      "life is beautiful\n",
      "Life Is Beautiful\n",
      "Life is beautiful\n",
      "life is beautiful\n",
      "LIFE IS BEAUTIFUL\n",
      "                life is beautiful                 \n",
      "life is beautiful                                 \n",
      "                                 life is beautiful\n",
      "*********************************life is beautiful\n",
      "life is beautiful*********************************\n",
      "****************life is beautiful*****************\n"
     ]
    }
   ],
   "source": [
    "msg = 'life is beautiful'\n",
    "print(msg.upper())\n",
    "print(msg.lower())\n",
    "print(msg.title())\n",
    "print(msg.capitalize())\n",
    "print(msg.casefold())\n",
    "print(msg.swapcase())\n",
    "print(msg.center(50))\n",
    "print(msg.ljust(50))\n",
    "print(msg.rjust(50))\n",
    "print(msg.rjust(50 , '*'))\n",
    "print(msg.ljust(50 , '*'))\n",
    "print(msg.center(50 , '*'))"
   ]
  },
  {
   "cell_type": "markdown",
   "metadata": {},
   "source": [
    "validation method\n",
    "-isalpha\n",
    "-isalnum\n",
    "-isnumeric\n",
    "-isdigit\n",
    "-isspace\n",
    "-isascii\n",
    "-isprintable\n",
    "-isupper\n",
    "-islower"
   ]
  },
  {
   "cell_type": "code",
   "execution_count": 20,
   "metadata": {},
   "outputs": [
    {
     "name": "stdout",
     "output_type": "stream",
     "text": [
      "apple pie\n",
      "False\n",
      "False\n",
      "False\n",
      "False\n",
      "False\n",
      "True\n",
      "True\n",
      "False\n",
      "True\n"
     ]
    }
   ],
   "source": [
    "data = input(\"enter something\")\n",
    "print(data)\n",
    "print(data.isalpha())\n",
    "print(data.isalnum())\n",
    "print(data.isnumeric())\n",
    "print(data.isdigit())\n",
    "print(data.isspace())\n",
    "print(data.isascii())\n",
    "print(data.isprintable())\n",
    "print(data.isupper())\n",
    "print(data.islower())\n"
   ]
  },
  {
   "cell_type": "code",
   "execution_count": 25,
   "metadata": {},
   "outputs": [
    {
     "name": "stdout",
     "output_type": "stream",
     "text": [
      "0 = \u0000, True\n",
      "5 = \u0005, True\n",
      "10 = \n",
      ", True\n",
      "15 = \u000f, True\n",
      "20 = \u0014, True\n",
      "25 = \u0019, True\n",
      "30 = \u001e, True\n",
      "35 = #, True\n",
      "40 = (, True\n",
      "45 = -, True\n",
      "50 = 2, True\n",
      "55 = 7, True\n",
      "60 = <, True\n",
      "65 = A, True\n",
      "70 = F, True\n",
      "75 = K, True\n",
      "80 = P, True\n",
      "85 = U, True\n",
      "90 = Z, True\n",
      "95 = _, True\n",
      "100 = d, True\n",
      "105 = i, True\n",
      "110 = n, True\n",
      "115 = s, True\n",
      "120 = x, True\n",
      "125 = }, True\n",
      "130 = , False\n",
      "135 = , False\n",
      "140 = , False\n",
      "145 = , False\n",
      "150 = , False\n",
      "155 = , False\n",
      "160 =  , False\n",
      "165 = ¥, False\n",
      "170 = ª, False\n",
      "175 = ¯, False\n",
      "180 = ´, False\n",
      "185 = ¹, False\n",
      "190 = ¾, False\n",
      "195 = Ã, False\n",
      "200 = È, False\n",
      "205 = Í, False\n",
      "210 = Ò, False\n",
      "215 = ×, False\n",
      "220 = Ü, False\n",
      "225 = á, False\n",
      "230 = æ, False\n",
      "235 = ë, False\n",
      "240 = ð, False\n",
      "245 = õ, False\n",
      "250 = ú, False\n",
      "255 = ÿ, False\n",
      "260 = Ą, False\n",
      "265 = ĉ, False\n",
      "270 = Ď, False\n",
      "275 = ē, False\n"
     ]
    }
   ],
   "source": [
    "for i in range(0,280,5):\n",
    "    c=chr(i)\n",
    "    print(f'{i} = {c}, {c.isascii()}')"
   ]
  },
  {
   "cell_type": "markdown",
   "metadata": {},
   "source": [
    "utility functions \n",
    "- split()\n",
    "-join()\n",
    "find()\n",
    "index\n",
    "replace\n",
    "count\n",
    "strip"
   ]
  },
  {
   "cell_type": "code",
   "execution_count": 1,
   "metadata": {},
   "outputs": [
    {
     "data": {
      "text/plain": [
       "['All', 'the', 'glitters', 'is', 'not', 'gold']"
      ]
     },
     "execution_count": 1,
     "metadata": {},
     "output_type": "execute_result"
    }
   ],
   "source": [
    "sentence = \"All the glitters is not gold\"\n",
    "sentence.split()"
   ]
  },
  {
   "cell_type": "code",
   "execution_count": 2,
   "metadata": {},
   "outputs": [
    {
     "name": "stdout",
     "output_type": "stream",
     "text": [
      "All\n",
      "the\n",
      "glitters\n",
      "is\n",
      "not\n",
      "gold\n"
     ]
    }
   ],
   "source": [
    "words = sentence.split()\n",
    "for word in words:\n",
    "    print(word)"
   ]
  },
  {
   "cell_type": "code",
   "execution_count": 5,
   "metadata": {},
   "outputs": [
    {
     "data": {
      "text/plain": [
       "['life before death',\n",
       " ' strength before weakness',\n",
       " ' journey before destination']"
      ]
     },
     "execution_count": 5,
     "metadata": {},
     "output_type": "execute_result"
    }
   ],
   "source": [
    "quote = \"life before death, strength before weakness, journey before destination\"\n",
    "quote.split(\",\")"
   ]
  },
  {
   "cell_type": "code",
   "execution_count": 11,
   "metadata": {},
   "outputs": [
    {
     "data": {
      "text/plain": [
       "['',\n",
       " 'Johnny Johnny , Yes papa',\n",
       " 'eating sugar , no papa',\n",
       " 'telling lies , no papa',\n",
       " 'open your mouth , ha! ha! ha!']"
      ]
     },
     "execution_count": 11,
     "metadata": {},
     "output_type": "execute_result"
    }
   ],
   "source": [
    "poem = \"\"\"\n",
    "Johnny Johnny , Yes papa\n",
    "eating sugar , no papa\n",
    "telling lies , no papa\n",
    "open your mouth , ha! ha! ha!\n",
    "\"\"\"\n",
    "poem.splitlines()"
   ]
  },
  {
   "cell_type": "code",
   "execution_count": 15,
   "metadata": {},
   "outputs": [
    {
     "name": "stdout",
     "output_type": "stream",
     "text": [
      "['c', 'user', 'eishta', 'download', 'file.txt']\n",
      "c/user/eishta/download/file.txt\n"
     ]
    }
   ],
   "source": [
    "address = ['c','user' , 'eishta', 'download', 'file.txt']\n",
    "print(address)\n",
    "fulladdress = \"/\".join(address)\n",
    "print(fulladdress)\n"
   ]
  },
  {
   "cell_type": "markdown",
   "metadata": {},
   "source": [
    "wap to count all even sized words in a string enter by user"
   ]
  },
  {
   "cell_type": "code",
   "execution_count": 20,
   "metadata": {},
   "outputs": [
    {
     "name": "stdout",
     "output_type": "stream",
     "text": [
      "6\n"
     ]
    }
   ],
   "source": [
    "sentence =  input('enter a sentence')\n",
    "words = sentence.split()\n",
    "total = 0\n",
    "for word in words:\n",
    "    size =len(word)\n",
    "    if size % 2 ==0:\n",
    "        total+=1\n",
    "print(total)\n"
   ]
  },
  {
   "cell_type": "code",
   "execution_count": 26,
   "metadata": {},
   "outputs": [
    {
     "name": "stdout",
     "output_type": "stream",
     "text": [
      "2\n",
      "10\n",
      "-1\n",
      "5\n",
      "2\n",
      "10\n",
      "5\n"
     ]
    }
   ],
   "source": [
    "#find() and index()\n",
    "a = 'this is a message'\n",
    "print(a.find('is'))\n",
    "print(a.find('mess'))\n",
    "print(a.find('are'))\n",
    "print(a.find('is',3))\n",
    "print(a.index('is'))\n",
    "print(a.index('mess'))\n",
    "print(a.index('is',3))"
   ]
  },
  {
   "cell_type": "code",
   "execution_count": 28,
   "metadata": {},
   "outputs": [
    {
     "name": "stdout",
     "output_type": "stream",
     "text": [
      "thwas was a message\n",
      "this is a letter\n",
      "khis is a lekter\n"
     ]
    }
   ],
   "source": [
    "b = a.replace(\"is\" , \"was\")\n",
    "print(b)\n",
    "c = b.replace(\"message\" , \"letter\").replace(\"was\" , \"is\")\n",
    "print(c)\n",
    "d= c.replace('t', 'k',2)\n",
    "print(d)"
   ]
  },
  {
   "cell_type": "code",
   "execution_count": 29,
   "metadata": {},
   "outputs": [
    {
     "data": {
      "text/plain": [
       "'hello'"
      ]
     },
     "execution_count": 29,
     "metadata": {},
     "output_type": "execute_result"
    }
   ],
   "source": [
    "#replace as remove\n",
    "data= \"he!!!!llo\"\n",
    "data.replace('!','')"
   ]
  },
  {
   "cell_type": "markdown",
   "metadata": {},
   "source": [
    "wap tp remove all vowels from a string"
   ]
  },
  {
   "cell_type": "code",
   "execution_count": 31,
   "metadata": {},
   "outputs": [
    {
     "data": {
      "text/plain": [
       "'wlcm t my wrld'"
      ]
     },
     "execution_count": 31,
     "metadata": {},
     "output_type": "execute_result"
    }
   ],
   "source": [
    "\"welcome to my world\".replace('a','').replace('e','').replace('i','').replace('o','').replace('u','')\n",
    "\n",
    "    "
   ]
  },
  {
   "cell_type": "code",
   "execution_count": 32,
   "metadata": {},
   "outputs": [
    {
     "name": "stdout",
     "output_type": "stream",
     "text": [
      "4\n",
      "2\n",
      "1\n",
      "0\n"
     ]
    }
   ],
   "source": [
    "msg ='one two three one two'\n",
    "print(msg.count(\"o\"))\n",
    "print(msg.count(\"one\"))\n",
    "print(msg.count(\"ee\"))\n",
    "print(msg.count(\"four\"))\n"
   ]
  },
  {
   "cell_type": "code",
   "execution_count": 34,
   "metadata": {},
   "outputs": [
    {
     "name": "stdout",
     "output_type": "stream",
     "text": [
      "9   eishta \n",
      "6   eishta \n"
     ]
    }
   ],
   "source": [
    "name = '  eishta '\n",
    "print(len(name),name)\n",
    "clean_name = name.strip()\n",
    "print(len(clean_name),name)"
   ]
  },
  {
   "cell_type": "markdown",
   "metadata": {},
   "source": [
    "name = [\n",
    "    'john',\n",
    "    'alex',\n",
    "    'jane',\n",
    "    'alexa',\n",
    "    'jacob',\n",
    "]\n",
    "display  this data after removing all leading anf trailing spaces and making itupper case\n"
   ]
  },
  {
   "cell_type": "code",
   "execution_count": 44,
   "metadata": {},
   "outputs": [
    {
     "name": "stdout",
     "output_type": "stream",
     "text": [
      "John\n",
      "Alex\n",
      "Jane\n",
      "Alexa\n",
      "Jacob\n"
     ]
    }
   ],
   "source": [
    "names = ['john', 'alex',  'jane', 'alexa',   'jacob' ]\n",
    "for name in names:\n",
    "    print(name.strip().title())\n"
   ]
  },
  {
   "cell_type": "code",
   "execution_count": null,
   "metadata": {},
   "outputs": [],
   "source": []
  }
 ],
 "metadata": {
  "kernelspec": {
   "display_name": "base",
   "language": "python",
   "name": "python3"
  },
  "language_info": {
   "codemirror_mode": {
    "name": "ipython",
    "version": 3
   },
   "file_extension": ".py",
   "mimetype": "text/x-python",
   "name": "python",
   "nbconvert_exporter": "python",
   "pygments_lexer": "ipython3",
   "version": "3.12.3"
  }
 },
 "nbformat": 4,
 "nbformat_minor": 2
}
