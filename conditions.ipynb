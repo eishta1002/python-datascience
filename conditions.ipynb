{
 "cells": [
  {
   "cell_type": "markdown",
   "metadata": {},
   "source": [
    "condition\n",
    "-'if'\n",
    "-'if else'\n",
    "-'if elif'\n",
    "-'match case'"
   ]
  },
  {
   "cell_type": "code",
   "execution_count": 2,
   "metadata": {},
   "outputs": [
    {
     "name": "stdout",
     "output_type": "stream",
     "text": [
      "you have a very big name\n"
     ]
    }
   ],
   "source": [
    "name = input(\"enter your name\")\n",
    "if len(name)>= 10:\n",
    "    print(\"you have a very big name\")"
   ]
  },
  {
   "cell_type": "code",
   "execution_count": 10,
   "metadata": {},
   "outputs": [
    {
     "name": "stdout",
     "output_type": "stream",
     "text": [
      "you don't have a name\n",
      "consize name\n",
      "Standard name, nothing special\n"
     ]
    }
   ],
   "source": [
    "name = input(\"enter your name\")\n",
    "if len(name) == 0:\n",
    "    print(\"you don't have a name\")\n",
    "if len(name) <=4:\n",
    "    print(\"consize name\")\n",
    "if len(name) <10:\n",
    "    print(\"Standard name, nothing special\")\n",
    "if len(name)>= 10:\n",
    "    print(\"you have a very big name\")"
   ]
  },
  {
   "cell_type": "code",
   "execution_count": 11,
   "metadata": {},
   "outputs": [
    {
     "name": "stdout",
     "output_type": "stream",
     "text": [
      "even\n"
     ]
    }
   ],
   "source": [
    "num= int(input(\"enter a number\"))\n",
    "if num %2 == 0:\n",
    "    print(\"even\")\n",
    "else:\n",
    "    print(\"odd\")"
   ]
  },
  {
   "cell_type": "code",
   "execution_count": 14,
   "metadata": {},
   "outputs": [
    {
     "name": "stdout",
     "output_type": "stream",
     "text": [
      "welcome user!\n"
     ]
    }
   ],
   "source": [
    "username= input(\"enter username\")\n",
    "password= input(\"enter password\")\n",
    "if username == \"admin\" and password ==\"admin\":\n",
    "    print(\"welcome user!\")\n",
    "else:\n",
    "    print(\"kaun ho tum?\")\n",
    "\n"
   ]
  },
  {
   "cell_type": "code",
   "execution_count": 16,
   "metadata": {},
   "outputs": [
    {
     "name": "stdout",
     "output_type": "stream",
     "text": [
      "arey waah! you got A\n"
     ]
    }
   ],
   "source": [
    "marks = int(input(\"kitne number aye aapke?\"))\n",
    "if marks >85:\n",
    "    print('arey waah! you got A')\n",
    "elif marks >=70:\n",
    "    print(\"badhiya, B Grade\")\n",
    "elif marks >=50:\n",
    "    print(\"chalo pass toh hue, C grade\")\n",
    "else:\n",
    "    print(\"fail,better luck next year\")\n",
    "\n"
   ]
  },
  {
   "cell_type": "code",
   "execution_count": 24,
   "metadata": {},
   "outputs": [
    {
     "name": "stdout",
     "output_type": "stream",
     "text": [
      "welcome user 21893\n"
     ]
    }
   ],
   "source": [
    "#nested conditions\n",
    "username = input('username')\n",
    "password = input(\"password\")\n",
    "if username !='' and password != '':\n",
    "    if username ==\"admin\":\n",
    "        if password =='admin':\n",
    "            print('welcome user 21893')\n",
    "        else:\n",
    "            print(\"password do not match\")\n",
    "    else:\n",
    "        print(\"username does not exist\")\n",
    "else:\n",
    "    print(\"credentials cannot be blank\")\n"
   ]
  },
  {
   "cell_type": "code",
   "execution_count": 26,
   "metadata": {},
   "outputs": [
    {
     "name": "stdout",
     "output_type": "stream",
     "text": [
      "you are a teenager\n"
     ]
    }
   ],
   "source": [
    "age = int(input(\"enter your age\"))\n",
    "match age:\n",
    "    case 1|2|3|4|5 :\n",
    "        print(\"you are still very young\")\n",
    "    case 10:\n",
    "        print(\"you should go and play outisde\")\n",
    "    case 20:\n",
    "        print(\"you are a teenager\")\n",
    "    case 30:\n",
    "        print(\"you are an adult, take responsibility\")\n",
    "    case _:\n",
    "        print(\"you are not worthy\")"
   ]
  },
  {
   "cell_type": "code",
   "execution_count": null,
   "metadata": {},
   "outputs": [],
   "source": []
  }
 ],
 "metadata": {
  "kernelspec": {
   "display_name": "base",
   "language": "python",
   "name": "python3"
  },
  "language_info": {
   "codemirror_mode": {
    "name": "ipython",
    "version": 3
   },
   "file_extension": ".py",
   "mimetype": "text/x-python",
   "name": "python",
   "nbconvert_exporter": "python",
   "pygments_lexer": "ipython3",
   "version": "3.12.3"
  }
 },
 "nbformat": 4,
 "nbformat_minor": 2
}
