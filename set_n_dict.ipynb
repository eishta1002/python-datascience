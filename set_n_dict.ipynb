{
 "cells": [
  {
   "cell_type": "markdown",
   "metadata": {},
   "source": [
    "set\n",
    "-create\n",
    "-method"
   ]
  },
  {
   "cell_type": "code",
   "execution_count": 3,
   "metadata": {},
   "outputs": [
    {
     "name": "stdout",
     "output_type": "stream",
     "text": [
      "set()\n",
      "{1, 2, 3, 4, 5, 6}\n",
      "['apple', 'banana', 'cherry']\n",
      "['apple', 205, 3.14, 'banana']\n",
      "{1, 2, 3, 4, 5, 6, 7, 8, 9, 10}\n",
      "{'p', 'r', 'h', ' ', 'a', 'e', 't', 'y', 'o'}\n"
     ]
    }
   ],
   "source": [
    "x=set()\n",
    "print(x)\n",
    "y={1,2,3,4,5,6,1,2}\n",
    "print(y)\n",
    "fruits=[\"apple\",\"banana\",\"cherry\"]\n",
    "print(fruits)\n",
    "data=['apple',205,3.14,'banana']\n",
    "print(data)\n",
    "a=set([1,2,3,4,5,6,7,8,9,10])\n",
    "b=set(\"harry potter\")\n",
    "print(a)\n",
    "print(b)"
   ]
  },
  {
   "cell_type": "code",
   "execution_count": 4,
   "metadata": {},
   "outputs": [
    {
     "name": "stdout",
     "output_type": "stream",
     "text": [
      "{'the hero of ages', 'the well of ascension', 'the final empire'}\n"
     ]
    }
   ],
   "source": [
    "a = set()\n",
    "a.add(\"the final empire\")\n",
    "a.add(\"the hero of ages\")\n",
    "a.add(\"the well of ascension\")\n",
    "print(a)"
   ]
  },
  {
   "cell_type": "code",
   "execution_count": 5,
   "metadata": {},
   "outputs": [
    {
     "name": "stdout",
     "output_type": "stream",
     "text": [
      "{'the hero of ages', 'applepie', 'appleseed', 'the well of ascension', 'the final empire', 'applecider'}\n"
     ]
    }
   ],
   "source": [
    "a.update(['appleseed','applepie','applecider'])\n",
    "print(a)\n"
   ]
  },
  {
   "cell_type": "code",
   "execution_count": 6,
   "metadata": {},
   "outputs": [
    {
     "name": "stdout",
     "output_type": "stream",
     "text": [
      "{'the hero of ages', 'applepie', 'appleseed', 'the well of ascension', 'the final empire', 'applecider'}\n"
     ]
    }
   ],
   "source": [
    "a.add(\"appleseed\")\n",
    "print(a)"
   ]
  },
  {
   "cell_type": "code",
   "execution_count": 7,
   "metadata": {},
   "outputs": [
    {
     "name": "stdout",
     "output_type": "stream",
     "text": [
      "{'the hero of ages', 'the well of ascension', 'the final empire', 'applecider'}\n"
     ]
    }
   ],
   "source": [
    "a.discard(\"appleseed\")\n",
    "a.discard(\"applepie\")\n",
    "a.discard(\"appleseed\")\n",
    "print(a)"
   ]
  },
  {
   "cell_type": "code",
   "execution_count": 11,
   "metadata": {},
   "outputs": [
    {
     "name": "stdout",
     "output_type": "stream",
     "text": [
      "{1, 2, 3, 4, 5}\n",
      "{1, 2, 3, 4, 5, 6, 7, 8}\n",
      "{1, 2, 3, 4, 5, 6, 7, 8}\n"
     ]
    }
   ],
   "source": [
    "a={1,2,3}\n",
    "b={3,4,5}\n",
    "c={6,7,8}\n",
    "ab= a.union(b)\n",
    "print(ab)\n",
    "print(a.union(b,c))\n",
    "print(a|b|c)"
   ]
  },
  {
   "cell_type": "code",
   "execution_count": 12,
   "metadata": {},
   "outputs": [
    {
     "name": "stdout",
     "output_type": "stream",
     "text": [
      "{3}\n",
      "{3}\n",
      "set()\n",
      "set()\n"
     ]
    }
   ],
   "source": [
    "print(a.intersection(b))\n",
    "print(a & b)\n",
    "print(a & c)\n",
    "print(a & b & c)"
   ]
  },
  {
   "cell_type": "code",
   "execution_count": 16,
   "metadata": {},
   "outputs": [
    {
     "name": "stdout",
     "output_type": "stream",
     "text": [
      "{1, 2}\n",
      "{4, 5}\n",
      "{1, 2}\n",
      "{1, 2, 3}\n"
     ]
    }
   ],
   "source": [
    "print(a.difference(b))\n",
    "print(b.difference(a))\n",
    "print(a-b)\n",
    "print(a-c)"
   ]
  },
  {
   "cell_type": "code",
   "execution_count": 17,
   "metadata": {},
   "outputs": [
    {
     "name": "stdout",
     "output_type": "stream",
     "text": [
      "{1, 2, 4, 5}\n",
      "{1, 2, 4, 5}\n"
     ]
    }
   ],
   "source": [
    "print(a.symmetric_difference(b))\n",
    "print(a^b)"
   ]
  },
  {
   "cell_type": "code",
   "execution_count": null,
   "metadata": {},
   "outputs": [],
   "source": []
  }
 ],
 "metadata": {
  "kernelspec": {
   "display_name": "base",
   "language": "python",
   "name": "python3"
  },
  "language_info": {
   "codemirror_mode": {
    "name": "ipython",
    "version": 3
   },
   "file_extension": ".py",
   "mimetype": "text/x-python",
   "name": "python",
   "nbconvert_exporter": "python",
   "pygments_lexer": "ipython3",
   "version": "3.12.3"
  }
 },
 "nbformat": 4,
 "nbformat_minor": 2
}
