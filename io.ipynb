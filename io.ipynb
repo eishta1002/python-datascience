{
 "cells": [
  {
   "cell_type": "code",
   "execution_count": 1,
   "metadata": {},
   "outputs": [],
   "source": [
    "p =12000\n",
    "r=10.49\n",
    "t=5\n",
    "si=p*r*t/100"
   ]
  },
  {
   "cell_type": "markdown",
   "metadata": {},
   "source": [
    " example ans=input(\"prompt\")"
   ]
  },
  {
   "cell_type": "code",
   "execution_count": 2,
   "metadata": {},
   "outputs": [
    {
     "data": {
      "text/plain": [
       "'ghjhujju'"
      ]
     },
     "execution_count": 2,
     "metadata": {},
     "output_type": "execute_result"
    }
   ],
   "source": [
    "input()"
   ]
  },
  {
   "cell_type": "code",
   "execution_count": 3,
   "metadata": {},
   "outputs": [
    {
     "data": {
      "text/plain": [
       "'eishta singh'"
      ]
     },
     "execution_count": 3,
     "metadata": {},
     "output_type": "execute_result"
    }
   ],
   "source": [
    "input(\"enter your name\")"
   ]
  },
  {
   "cell_type": "code",
   "execution_count": 8,
   "metadata": {},
   "outputs": [],
   "source": [
    "name = input(\"enter your name\")\n",
    "city = input(\"enter your city\")\n",
    "color= input(\"enter your favourite color\")\n",
    "fruit =input(\"enter your favourite fruit\")\n",
    "luckynumber= input(\"enter your lucky number\")\n",
    "            "
   ]
  },
  {
   "cell_type": "code",
   "execution_count": 9,
   "metadata": {},
   "outputs": [
    {
     "name": "stdout",
     "output_type": "stream",
     "text": [
      "1000500\n"
     ]
    }
   ],
   "source": [
    "a= input(\"enter a number\")\n",
    "b= input(\"enter a number\")\n",
    "print(a+b)"
   ]
  },
  {
   "cell_type": "markdown",
   "metadata": {},
   "source": [
    "typecasting\n",
    "from one data type =>another\n",
    "str =>int(variable) =>int\n"
   ]
  },
  {
   "cell_type": "code",
   "execution_count": 10,
   "metadata": {},
   "outputs": [
    {
     "data": {
      "text/plain": [
       "12.2"
      ]
     },
     "execution_count": 10,
     "metadata": {},
     "output_type": "execute_result"
    }
   ],
   "source": [
    "float(\"12.20\")"
   ]
  },
  {
   "cell_type": "code",
   "execution_count": 11,
   "metadata": {},
   "outputs": [
    {
     "name": "stdout",
     "output_type": "stream",
     "text": [
      "<class 'int'>\n",
      "<class 'str'>\n",
      "<class 'str'>\n",
      "<class 'float'>\n"
     ]
    }
   ],
   "source": [
    "a=10\n",
    "b= \"10\"\n",
    "c= \"10.20\"\n",
    "d=10.20\n",
    "print (type(a))\n",
    "print (type(b))\n",
    "print (type(c))\n",
    "print (type(d))"
   ]
  },
  {
   "cell_type": "code",
   "execution_count": 13,
   "metadata": {},
   "outputs": [
    {
     "name": "stdout",
     "output_type": "stream",
     "text": [
      "10.0\n",
      "10\n",
      "True\n",
      "10\n",
      "10.0\n",
      "True\n"
     ]
    }
   ],
   "source": [
    "print(float(a))\n",
    "print(str(a))\n",
    "print(bool(a))\n",
    "print(int(b))\n",
    "print(float(b))\n",
    "print(bool(b))"
   ]
  },
  {
   "cell_type": "code",
   "execution_count": 16,
   "metadata": {},
   "outputs": [
    {
     "name": "stdout",
     "output_type": "stream",
     "text": [
      "1700\n"
     ]
    }
   ],
   "source": [
    "a= input(\"enter a number\")\n",
    "b= input(\"enter a number\")\n",
    "c=int(a)+int(b)\n",
    "print(c)"
   ]
  },
  {
   "cell_type": "code",
   "execution_count": 17,
   "metadata": {},
   "outputs": [
    {
     "name": "stdout",
     "output_type": "stream",
     "text": [
      "1700\n"
     ]
    }
   ],
   "source": [
    "a= int(input('enter a number'))\n",
    "b= int(input(\"enter a number\"))\n",
    "c= a+b\n",
    "print(c)"
   ]
  },
  {
   "cell_type": "code",
   "execution_count": 18,
   "metadata": {},
   "outputs": [
    {
     "name": "stdout",
     "output_type": "stream",
     "text": [
      "150000.0\n"
     ]
    }
   ],
   "source": [
    "p= int(input('enter a number'))\n",
    "r= float(input('enter a number'))\n",
    "t= int(input('enter a number'))\n",
    "si= p*r*t\n",
    "print(si)"
   ]
  },
  {
   "cell_type": "markdown",
   "metadata": {},
   "source": [
    " answer : 12 - 3 = 9"
   ]
  },
  {
   "cell_type": "code",
   "execution_count": 19,
   "metadata": {},
   "outputs": [
    {
     "name": "stdout",
     "output_type": "stream",
     "text": [
      "answer: 12 - 3 = 9\n"
     ]
    }
   ],
   "source": [
    "a=12\n",
    "b=3\n",
    "c=a-b\n",
    "print(\"answer:\" , a ,'-', b , '=',c) "
   ]
  },
  {
   "cell_type": "code",
   "execution_count": 28,
   "metadata": {},
   "outputs": [
    {
     "name": "stdout",
     "output_type": "stream",
     "text": [
      "simple interest calculator\n",
      "principle=Rs 12000\n",
      "rate = 2.5 %\n",
      "time= 5 year\n",
      "----------------------\n",
      "simple interest= 150000.0\n"
     ]
    }
   ],
   "source": [
    "p= int(input('enter a principle'))\n",
    "r= float(input('enter a rate'))\n",
    "t= int(input('enter a time'))\n",
    "si= p*r*t\n",
    "print(\"simple interest calculator\")\n",
    "print(\"principle=Rs\" , p)\n",
    "print(\"rate =\" , r , \"%\" )\n",
    "print(\"time=\" , t,\"year\")\n",
    "print('-' *22)\n",
    "print(\"simple interest=\" , si)\n"
   ]
  },
  {
   "cell_type": "markdown",
   "metadata": {},
   "source": [
    "string interpolation for formatted output\n"
   ]
  },
  {
   "cell_type": "code",
   "execution_count": 29,
   "metadata": {},
   "outputs": [
    {
     "name": "stdout",
     "output_type": "stream",
     "text": [
      "answer: 12 - 3 =9\n"
     ]
    }
   ],
   "source": [
    "a=12\n",
    "b=3\n",
    "c=a-b\n",
    "print(f\"answer: {a} - {b} ={c}\")"
   ]
  },
  {
   "cell_type": "code",
   "execution_count": 30,
   "metadata": {},
   "outputs": [
    {
     "name": "stdout",
     "output_type": "stream",
     "text": [
      " area of the triangle\n",
      "base =24 cm\n",
      "height =12 cm\n",
      "_______________\n",
      "area = 144.0 cm \n"
     ]
    }
   ],
   "source": [
    "b =int(input(\"enter the base of the trianlge\"))\n",
    "h= int(input(\"enter the height of the triangle\"))\n",
    "area= 1/2*b*h\n",
    "print(\" area of the triangle\")\n",
    "print(f'base ={b} cm')\n",
    "print(f'height ={h} cm')\n",
    "print('_' *15)\n",
    "print(f'area = {area} cm ')"
   ]
  },
  {
   "cell_type": "code",
   "execution_count": 3,
   "metadata": {},
   "outputs": [
    {
     "name": "stdout",
     "output_type": "stream",
     "text": [
      "3.3\n",
      "3.33\n",
      "3.333\n"
     ]
    }
   ],
   "source": [
    "round(10/3)\n",
    "print(round(10/3, 1))\n",
    "print(round(10/3, 2))\n",
    "print(round(10/3, 3))"
   ]
  },
  {
   "cell_type": "code",
   "execution_count": 4,
   "metadata": {},
   "outputs": [
    {
     "name": "stdout",
     "output_type": "stream",
     "text": [
      "10 divided by 7 is 1.4285714285714286\n",
      "10 divided by 7 is 1.4\n",
      "10 divided by 7 is 1.43\n",
      "10 divided by 7 is 1.429\n"
     ]
    }
   ],
   "source": [
    "a=10\n",
    "b=7\n",
    "c=a/b\n",
    "print(f'{a} divided by {b} is {a/b}')\n",
    "print(f'{a} divided by {b} is {a/b:.1f}')\n",
    "print(f'{a} divided by {b} is {a/b:.2f}')\n",
    "print(f'{a} divided by {b} is {a/b:.3f}')"
   ]
  },
  {
   "cell_type": "code",
   "execution_count": 8,
   "metadata": {},
   "outputs": [
    {
     "name": "stdout",
     "output_type": "stream",
     "text": [
      "                        The final empire |  Brandon Sanderson   | 499\n",
      "                          The are of war |       Sun Tzu        | 239\n",
      "    Stormlight Archives:The way of kings |  Brandon Sanderson   | 550\n"
     ]
    }
   ],
   "source": [
    "n1 = \"The final empire\"\n",
    "a1 = \"Brandon Sanderson\"\n",
    "p1 = 499\n",
    "n2 = \"The are of war\"\n",
    "a2 = \"Sun Tzu\"\n",
    "p2 = 239\n",
    "n3 = \"Stormlight Archives:The way of kings\"\n",
    "a3 = 'Brandon Sanderson'\n",
    "p3 = 550\n",
    "print(f'{n1:>40} | {a1:^20} | {p1}')\n",
    "print(f'{n2:>40} | {a2:^20} | {p2}')\n",
    "print(f'{n3:>40} | {a3:^20} | {p3}')"
   ]
  },
  {
   "cell_type": "code",
   "execution_count": null,
   "metadata": {},
   "outputs": [],
   "source": []
  }
 ],
 "metadata": {
  "kernelspec": {
   "display_name": "base",
   "language": "python",
   "name": "python3"
  },
  "language_info": {
   "codemirror_mode": {
    "name": "ipython",
    "version": 3
   },
   "file_extension": ".py",
   "mimetype": "text/x-python",
   "name": "python",
   "nbconvert_exporter": "python",
   "pygments_lexer": "ipython3",
   "version": "3.12.3"
  }
 },
 "nbformat": 4,
 "nbformat_minor": 2
}
