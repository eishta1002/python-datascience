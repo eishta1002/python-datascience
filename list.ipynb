{
 "cells": [
  {
   "cell_type": "markdown",
   "metadata": {},
   "source": [
    "# list\n",
    "-create\n",
    "-indexing and slicing\n",
    "-methods\n",
    "  -append()\n",
    "  -insert()\n",
    "  -extend()\n",
    "  -remove()\n",
    "  -pop()\n",
    "  -clear()\n",
    "  -count()\n",
    "  -reverse()\n",
    "  -sort()\n",
    "  -index()\n",
    "  -copy()\n",
    "-comprehension"
   ]
  },
  {
   "cell_type": "code",
   "execution_count": 1,
   "metadata": {},
   "outputs": [
    {
     "name": "stdout",
     "output_type": "stream",
     "text": [
      "[1, 2, 3] <class 'list'>\n",
      "['Alice', 'Bob', 'Charlie'] <class 'list'>\n",
      "['apple', 50, 'mango', 100, 'orange', 70]\n",
      "([1, 2, 3, 4], [4, 5, 6], [7, 8])\n",
      "[1, 1, 1, 1, 1, 1, 1, 1, 1, 1]\n",
      "['v', 'e', 'r', 't', 'e', 'x']\n",
      "['welcome', 'to', 'listing']\n"
     ]
    }
   ],
   "source": [
    "a = [1,2,3]\n",
    "print(a, type(a))\n",
    "names = ['Alice', 'Bob','Charlie']\n",
    "print(names, type(names))\n",
    "data = ['apple', 50, 'mango', 100, 'orange',70]\n",
    "nested_list = [1,2,3,4],[4,5,6],[7,8]\n",
    "print(data)\n",
    "print(nested_list)\n",
    "duplicated_list = [1]*10\n",
    "print(duplicated_list)\n",
    "print(list('vertex'))\n",
    "print('welcome to listing'.split())"
   ]
  },
  {
   "cell_type": "code",
   "execution_count": 9,
   "metadata": {},
   "outputs": [
    {
     "name": "stdout",
     "output_type": "stream",
     "text": [
      "first six =  [11, 12, 13, 14, 15, 16]\n",
      "last six = [11, 12, 13, 14]\n",
      "last element = 20\n",
      "first element = 11\n",
      "except first three and last three = [14, 15, 16, 17]\n",
      "reverse list = [20, 19, 18, 17, 16, 15, 14, 13, 12, 11]\n",
      "all the even indexes = [11, 13, 15, 17, 19]\n",
      "all the odd indexes = [12, 14, 16, 18, 20]\n",
      "reverse of first six indexes = [16, 15, 14, 13, 12, 11]\n"
     ]
    }
   ],
   "source": [
    "n =[11,12,13,14,15,16,17,18,19,20]\n",
    "print( 'first six = ',n[:6])\n",
    "print( 'last six =', n[:-6])\n",
    "print('last element =', n[-1])\n",
    "print('first element =',n[0])\n",
    "print('except first three and last three =',n[3:-3])\n",
    "print('reverse list =',n[::-1])\n",
    "print('all the even indexes =',n[::2])\n",
    "print('all the odd indexes =',n[1::2])\n",
    "print('reverse of first six indexes =',n[5::-1])"
   ]
  },
  {
   "cell_type": "code",
   "execution_count": 11,
   "metadata": {},
   "outputs": [
    {
     "name": "stdout",
     "output_type": "stream",
     "text": [
      "[11, 12, 13, 14, 15, 100, 17, 18, 19, 20]\n",
      "[11, 12, 10, 14, 15, 100, 17, 18, 19, 20]\n"
     ]
    }
   ],
   "source": [
    " #list is mutable\n",
    " # n[5]=100\n",
    "print(n)\n",
    "n[2]=10\n",
    "print(n)"
   ]
  },
  {
   "cell_type": "code",
   "execution_count": 12,
   "metadata": {},
   "outputs": [
    {
     "name": "stdout",
     "output_type": "stream",
     "text": [
      "['apple', 'mango', 'orange']\n",
      "['custard apple', 'mango', 'orange']\n",
      "['custard apple', 'jackfruit', 'orange']\n"
     ]
    }
   ],
   "source": [
    "fruits = [ 'apple','mango','orange']\n",
    "print(fruits)\n",
    "fruits[0] = 'custard apple'\n",
    "print(fruits)\n",
    "fruits[1] = 'jackfruit'\n",
    "print(fruits)"
   ]
  },
  {
   "cell_type": "code",
   "execution_count": 14,
   "metadata": {},
   "outputs": [
    {
     "name": "stdout",
     "output_type": "stream",
     "text": [
      "<class 'list'>\n",
      "0\n",
      "['star wars', 'harry potter', 'the core', 'bullet train', 'jumanji']\n",
      "5\n"
     ]
    }
   ],
   "source": [
    "movies =[]\n",
    "print(type(movies))\n",
    "print(len(movies))\n",
    "movies.append(\"star wars\")\n",
    "movies.append(\"harry potter\")\n",
    "movies.append(\"the core\")\n",
    "movies.append(\"bullet train\")\n",
    "movies.append(\"jumanji\")\n",
    "print(movies)\n",
    "print(len(movies))"
   ]
  },
  {
   "cell_type": "code",
   "execution_count": 19,
   "metadata": {},
   "outputs": [
    {
     "name": "stdout",
     "output_type": "stream",
     "text": [
      "['fast and furious', '2 fast and 2 furious', 'fast and furious :tokyo drift', 'fast and furious 4', 'fast 5']\n"
     ]
    }
   ],
   "source": [
    "ff = ['fast and furious',\n",
    " '2 fast and 2 furious',\n",
    " 'fast and furious :tokyo drift',\n",
    " 'fast 5']\n",
    "ff.insert(3, 'fast and furious 4')\n",
    "print(ff)"
   ]
  },
  {
   "cell_type": "code",
   "execution_count": 21,
   "metadata": {},
   "outputs": [
    {
     "name": "stdout",
     "output_type": "stream",
     "text": [
      "[1, 2, 3, 4, 6, 7, 8, 9]\n",
      "[1, 2, 3, 4, 5, 6, 7, 8, 9]\n",
      "[1, 2, 3, 4, 5, 6, 7, 8, 9, 5]\n"
     ]
    }
   ],
   "source": [
    "n =[1,2,3,6,7,8,9]\n",
    "n.insert(3,4)\n",
    "print(n)\n",
    "n.insert(4,5)\n",
    "print(n)\n",
    "n.insert(100,5)\n",
    "print(n)"
   ]
  },
  {
   "cell_type": "code",
   "execution_count": 22,
   "metadata": {},
   "outputs": [
    {
     "name": "stdout",
     "output_type": "stream",
     "text": [
      "[1, 2, 3, 4, 5, 6]\n",
      "[4, 5, 6]\n",
      "[4, 5, 6, 7, 8, 9]\n",
      "[7, 8, 9, 1, 2, 3, 4, 5]\n"
     ]
    }
   ],
   "source": [
    "l1= [1,2,3]\n",
    "l2=[4,5,6]\n",
    "l3=[7,8,9]\n",
    "l1.extend(l2)\n",
    "print(l1)\n",
    "print(l2)\n",
    "l2.extend(l3)\n",
    "print(l2)\n",
    "l3.extend([1,2,3,4,5])\n",
    "print(l3)"
   ]
  },
  {
   "cell_type": "code",
   "execution_count": null,
   "metadata": {},
   "outputs": [],
   "source": []
  }
 ],
 "metadata": {
  "kernelspec": {
   "display_name": "base",
   "language": "python",
   "name": "python3"
  },
  "language_info": {
   "codemirror_mode": {
    "name": "ipython",
    "version": 3
   },
   "file_extension": ".py",
   "mimetype": "text/x-python",
   "name": "python",
   "nbconvert_exporter": "python",
   "pygments_lexer": "ipython3",
   "version": "3.12.3"
  }
 },
 "nbformat": 4,
 "nbformat_minor": 2
}
