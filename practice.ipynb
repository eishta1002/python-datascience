{
 "cells": [
  {
   "cell_type": "markdown",
   "metadata": {},
   "source": [
    "LOOPS PRACTICE QUESTIONS\n",
    "(Q1)Write a program to print numbers from 1 to 10 using a for loop."
   ]
  },
  {
   "cell_type": "code",
   "execution_count": 52,
   "metadata": {},
   "outputs": [
    {
     "name": "stdout",
     "output_type": "stream",
     "text": [
      "1\n",
      "2\n",
      "3\n",
      "4\n",
      "5\n",
      "6\n",
      "7\n",
      "8\n",
      "9\n",
      "10\n"
     ]
    }
   ],
   "source": [
    "for i in range(1, 11):\n",
    "    print(i)"
   ]
  },
  {
   "cell_type": "markdown",
   "metadata": {},
   "source": [
    "(Q2)Write a program to print the multiplication table of a given number using a while loop."
   ]
  },
  {
   "cell_type": "code",
   "execution_count": 53,
   "metadata": {},
   "outputs": [
    {
     "name": "stdout",
     "output_type": "stream",
     "text": [
      "24 x 1 = 24\n",
      "24 x 2 = 48\n",
      "24 x 3 = 72\n",
      "24 x 4 = 96\n",
      "24 x 5 = 120\n",
      "24 x 6 = 144\n",
      "24 x 7 = 168\n",
      "24 x 8 = 192\n",
      "24 x 9 = 216\n",
      "24 x 10 = 240\n"
     ]
    }
   ],
   "source": [
    "number = int(input(\"Enter a number: \"))\n",
    "i = 1\n",
    "while i <= 10:\n",
    "    print(f\"{number} x {i} = {number * i}\")\n",
    "    i += 1"
   ]
  },
  {
   "cell_type": "markdown",
   "metadata": {},
   "source": [
    "(Q3)Write a program to find the sum of all even numbers between 1 and 100 using a for loop."
   ]
  },
  {
   "cell_type": "code",
   "execution_count": 54,
   "metadata": {},
   "outputs": [
    {
     "name": "stdout",
     "output_type": "stream",
     "text": [
      "The sum of all even numbers between 1 and 100 is: 2550\n"
     ]
    }
   ],
   "source": [
    "total = 0\n",
    "for number in range(1, 101):\n",
    "    if number % 2 == 0:\n",
    "      total += number\n",
    "print(\"The sum of all even numbers between 1 and 100 is:\", total)\n",
    "\n",
    "\n"
   ]
  },
  {
   "cell_type": "markdown",
   "metadata": {},
   "source": [
    "(Q4)Write a program to check if a given number is prime or not using a while loop."
   ]
  },
  {
   "cell_type": "code",
   "execution_count": 55,
   "metadata": {},
   "outputs": [
    {
     "name": "stdout",
     "output_type": "stream",
     "text": [
      "=> 26 % 2 == True\n",
      "=> 26 % 3 == False\n",
      "=> 26 % 4 == False\n",
      "=> 26 % 5 == False\n",
      "=> 26 % 6 == False\n",
      "=> 26 % 7 == False\n",
      "=> 26 % 8 == False\n",
      "=> 26 % 9 == False\n",
      "=> 26 % 10 == False\n",
      "=> 26 % 11 == False\n",
      "=> 26 % 12 == False\n",
      "=> 26 % 13 == True\n",
      "=> 26 % 14 == False\n",
      "=> 26 % 15 == False\n",
      "=> 26 % 16 == False\n",
      "=> 26 % 17 == False\n",
      "=> 26 % 18 == False\n",
      "=> 26 % 19 == False\n",
      "=> 26 % 20 == False\n",
      "=> 26 % 21 == False\n",
      "=> 26 % 22 == False\n",
      "=> 26 % 23 == False\n",
      "=> 26 % 24 == False\n",
      "=> 26 % 25 == False\n",
      "the number is  prime\n"
     ]
    }
   ],
   "source": [
    "n = int(input(\"enter a number\"))\n",
    "for i in range(2,n):\n",
    "   print(f\"=> {n} % {i} == {n%i ==0}\")\n",
    "while n%i ==0:\n",
    "    print(\"the number is not  prime\")\n",
    "else:\n",
    "    print(\"the number is  prime\")"
   ]
  },
  {
   "cell_type": "markdown",
   "metadata": {},
   "source": [
    "(Q7)Write a program to find the largest element in an array using a for loop."
   ]
  },
  {
   "cell_type": "code",
   "execution_count": 56,
   "metadata": {},
   "outputs": [
    {
     "name": "stdout",
     "output_type": "stream",
     "text": [
      "the largest element is  60\n"
     ]
    }
   ],
   "source": [
    "arr =[12,24,36,48,60]\n",
    "print(\"the largest element is \", max(arr))\n"
   ]
  },
  {
   "cell_type": "markdown",
   "metadata": {},
   "source": [
    "(Q9)Write a program to print the ASCII values of all uppercase letters using a for loop."
   ]
  },
  {
   "cell_type": "code",
   "execution_count": 57,
   "metadata": {},
   "outputs": [
    {
     "name": "stdout",
     "output_type": "stream",
     "text": [
      "65 = A, (True, {'A'})\n",
      "66 = B, (True, {'B'})\n",
      "67 = C, (True, {'C'})\n",
      "68 = D, (True, {'D'})\n",
      "69 = E, (True, {'E'})\n",
      "70 = F, (True, {'F'})\n",
      "71 = G, (True, {'G'})\n",
      "72 = H, (True, {'H'})\n",
      "73 = I, (True, {'I'})\n",
      "74 = J, (True, {'J'})\n",
      "75 = K, (True, {'K'})\n",
      "76 = L, (True, {'L'})\n",
      "77 = M, (True, {'M'})\n",
      "78 = N, (True, {'N'})\n",
      "79 = O, (True, {'O'})\n",
      "80 = P, (True, {'P'})\n",
      "81 = Q, (True, {'Q'})\n",
      "82 = R, (True, {'R'})\n",
      "83 = S, (True, {'S'})\n",
      "84 = T, (True, {'T'})\n",
      "85 = U, (True, {'U'})\n",
      "86 = V, (True, {'V'})\n",
      "87 = W, (True, {'W'})\n",
      "88 = X, (True, {'X'})\n",
      "89 = Y, (True, {'Y'})\n",
      "90 = Z, (True, {'Z'})\n"
     ]
    }
   ],
   "source": [
    "for i in range(65,91):\n",
    "    c=chr(i)\n",
    "    print(f'{i} = {c}, {c.isascii(),{c.upper()}}')\n",
    "\n"
   ]
  },
  {
   "cell_type": "markdown",
   "metadata": {},
   "source": [
    "(Q11)Write a program to calculate the average of a list of numbers using a for loop."
   ]
  },
  {
   "cell_type": "code",
   "execution_count": 58,
   "metadata": {},
   "outputs": [
    {
     "name": "stdout",
     "output_type": "stream",
     "text": [
      "the average of the numbers is = 3.0\n"
     ]
    }
   ],
   "source": [
    "for i in range(1,6):\n",
    "    sum = 1+2+3+4+5\n",
    "avg=sum/5\n",
    "print(\"the average of the numbers is\",\"=\",avg)"
   ]
  },
  {
   "cell_type": "markdown",
   "metadata": {},
   "source": [
    "(Q12)Write a program to find the smallest element in an array using a while loop."
   ]
  },
  {
   "cell_type": "code",
   "execution_count": 59,
   "metadata": {},
   "outputs": [
    {
     "name": "stdout",
     "output_type": "stream",
     "text": [
      "the smallest element is  12\n"
     ]
    }
   ],
   "source": [
    "arr =[12,24,36,48,60]\n",
    "print(\"the smallest element is \", min(arr))"
   ]
  }
 ],
 "metadata": {
  "kernelspec": {
   "display_name": "base",
   "language": "python",
   "name": "python3"
  },
  "language_info": {
   "codemirror_mode": {
    "name": "ipython",
    "version": 3
   },
   "file_extension": ".py",
   "mimetype": "text/x-python",
   "name": "python",
   "nbconvert_exporter": "python",
   "pygments_lexer": "ipython3",
   "version": "3.12.3"
  }
 },
 "nbformat": 4,
 "nbformat_minor": 2
}
